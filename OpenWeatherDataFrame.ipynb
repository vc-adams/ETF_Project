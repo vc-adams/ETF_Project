{
 "cells": [
  {
   "cell_type": "markdown",
   "metadata": {},
   "source": [
    "# OpenWeather DataFrame for ETL Project\n",
    "\n",
    "We get our Auto Insurance Data Add on our weather data via our API call "
   ]
  },
  {
   "cell_type": "markdown",
   "metadata": {},
   "source": [
    "#### Import dependencies"
   ]
  },
  {
   "cell_type": "code",
   "execution_count": 98,
   "metadata": {},
   "outputs": [],
   "source": [
    "import matplotlib.pyplot as plt\n",
    "import requests\n",
    "import pandas as pd\n",
    "from config import api_key\n",
    "from pprint import pprint\n",
    "import os\n",
    "import pandas as pd\n",
    "import csv"
   ]
  },
  {
   "cell_type": "code",
   "execution_count": 100,
   "metadata": {},
   "outputs": [],
   "source": [
    "# Import Auto Insurance data\n",
    "auto_data_path = os.path.join(\"Resources\", \"Average Auto Insurance Data.csv\")\n",
    "auto_data_df = pd.read_csv(auto_data_path)"
   ]
  },
  {
   "cell_type": "code",
   "execution_count": 101,
   "metadata": {},
   "outputs": [
    {
     "data": {
      "text/html": [
       "<div>\n",
       "<style scoped>\n",
       "    .dataframe tbody tr th:only-of-type {\n",
       "        vertical-align: middle;\n",
       "    }\n",
       "\n",
       "    .dataframe tbody tr th {\n",
       "        vertical-align: top;\n",
       "    }\n",
       "\n",
       "    .dataframe thead th {\n",
       "        text-align: right;\n",
       "    }\n",
       "</style>\n",
       "<table border=\"1\" class=\"dataframe\">\n",
       "  <thead>\n",
       "    <tr style=\"text-align: right;\">\n",
       "      <th></th>\n",
       "      <th>State</th>\n",
       "      <th>Zip Code</th>\n",
       "      <th>City</th>\n",
       "      <th>Average Auto Insurance Rate</th>\n",
       "    </tr>\n",
       "  </thead>\n",
       "  <tbody>\n",
       "    <tr>\n",
       "      <td>0</td>\n",
       "      <td>Michigan</td>\n",
       "      <td>48226</td>\n",
       "      <td>Detroit</td>\n",
       "      <td>$6,329</td>\n",
       "    </tr>\n",
       "    <tr>\n",
       "      <td>1</td>\n",
       "      <td>New York</td>\n",
       "      <td>11212</td>\n",
       "      <td>New York</td>\n",
       "      <td>$5,703</td>\n",
       "    </tr>\n",
       "    <tr>\n",
       "      <td>2</td>\n",
       "      <td>Louisiana</td>\n",
       "      <td>70117</td>\n",
       "      <td>New Orleans</td>\n",
       "      <td>$4,601</td>\n",
       "    </tr>\n",
       "    <tr>\n",
       "      <td>3</td>\n",
       "      <td>Nevada</td>\n",
       "      <td>89101</td>\n",
       "      <td>Las Vegas</td>\n",
       "      <td>$3,768</td>\n",
       "    </tr>\n",
       "    <tr>\n",
       "      <td>4</td>\n",
       "      <td>California</td>\n",
       "      <td>91605</td>\n",
       "      <td>North Hollywood</td>\n",
       "      <td>$3,767</td>\n",
       "    </tr>\n",
       "    <tr>\n",
       "      <td>...</td>\n",
       "      <td>...</td>\n",
       "      <td>...</td>\n",
       "      <td>...</td>\n",
       "      <td>...</td>\n",
       "    </tr>\n",
       "    <tr>\n",
       "      <td>220</td>\n",
       "      <td>Louisiana</td>\n",
       "      <td>70117</td>\n",
       "      <td>New Orleans</td>\n",
       "      <td>$9,303.50</td>\n",
       "    </tr>\n",
       "    <tr>\n",
       "      <td>221</td>\n",
       "      <td>District Of Columbia</td>\n",
       "      <td>20002</td>\n",
       "      <td>Washington</td>\n",
       "      <td>$4,440.79</td>\n",
       "    </tr>\n",
       "    <tr>\n",
       "      <td>222</td>\n",
       "      <td>New Jersey</td>\n",
       "      <td>7102</td>\n",
       "      <td>Newark</td>\n",
       "      <td>$8,512.59</td>\n",
       "    </tr>\n",
       "    <tr>\n",
       "      <td>223</td>\n",
       "      <td>Delaware</td>\n",
       "      <td>6340</td>\n",
       "      <td>Groton</td>\n",
       "      <td>$3,896.10</td>\n",
       "    </tr>\n",
       "    <tr>\n",
       "      <td>224</td>\n",
       "      <td>Michigan</td>\n",
       "      <td>48201</td>\n",
       "      <td>Detroit</td>\n",
       "      <td>$30,350.09</td>\n",
       "    </tr>\n",
       "  </tbody>\n",
       "</table>\n",
       "<p>225 rows × 4 columns</p>\n",
       "</div>"
      ],
      "text/plain": [
       "                    State  Zip Code             City  \\\n",
       "0                Michigan     48226          Detroit   \n",
       "1                New York     11212         New York   \n",
       "2               Louisiana     70117      New Orleans   \n",
       "3                  Nevada     89101        Las Vegas   \n",
       "4              California     91605  North Hollywood   \n",
       "..                    ...       ...              ...   \n",
       "220             Louisiana     70117      New Orleans   \n",
       "221  District Of Columbia     20002       Washington   \n",
       "222            New Jersey      7102           Newark   \n",
       "223              Delaware      6340           Groton   \n",
       "224              Michigan     48201          Detroit   \n",
       "\n",
       "    Average Auto Insurance Rate  \n",
       "0                        $6,329  \n",
       "1                        $5,703  \n",
       "2                        $4,601  \n",
       "3                        $3,768  \n",
       "4                        $3,767  \n",
       "..                          ...  \n",
       "220                   $9,303.50  \n",
       "221                   $4,440.79  \n",
       "222                   $8,512.59  \n",
       "223                   $3,896.10  \n",
       "224                  $30,350.09  \n",
       "\n",
       "[225 rows x 4 columns]"
      ]
     },
     "execution_count": 101,
     "metadata": {},
     "output_type": "execute_result"
    }
   ],
   "source": [
    "auto_data_df"
   ]
  },
  {
   "cell_type": "code",
   "execution_count": 111,
   "metadata": {},
   "outputs": [
    {
     "ename": "AttributeError",
     "evalue": "'DataFrame' object has no attribute 'Zip'",
     "output_type": "error",
     "traceback": [
      "\u001b[1;31m---------------------------------------------------------------------------\u001b[0m",
      "\u001b[1;31mAttributeError\u001b[0m                            Traceback (most recent call last)",
      "\u001b[1;32m<ipython-input-111-3b13640f7fdb>\u001b[0m in \u001b[0;36m<module>\u001b[1;34m\u001b[0m\n\u001b[0;32m      1\u001b[0m \u001b[0mauto_data_list\u001b[0m \u001b[1;33m=\u001b[0m \u001b[0mauto_data_df\u001b[0m\u001b[1;33m.\u001b[0m\u001b[0mvalues\u001b[0m\u001b[1;33m.\u001b[0m\u001b[0mtolist\u001b[0m\u001b[1;33m(\u001b[0m\u001b[1;33m)\u001b[0m\u001b[1;33m\u001b[0m\u001b[1;33m\u001b[0m\u001b[0m\n\u001b[0;32m      2\u001b[0m \u001b[0mauto_data_list\u001b[0m\u001b[1;33m\u001b[0m\u001b[1;33m\u001b[0m\u001b[0m\n\u001b[1;32m----> 3\u001b[1;33m \u001b[0mzip_list\u001b[0m \u001b[1;33m=\u001b[0m \u001b[0mauto_data_df\u001b[0m\u001b[1;33m.\u001b[0m\u001b[0mZip\u001b[0m\u001b[1;33m%\u001b[0m\u001b[1;36m20\u001b[0m\u001b[1;33m%\u001b[0m\u001b[0mCode\u001b[0m\u001b[1;33m.\u001b[0m\u001b[0mtolist\u001b[0m\u001b[1;33m(\u001b[0m\u001b[1;33m)\u001b[0m\u001b[1;33m\u001b[0m\u001b[1;33m\u001b[0m\u001b[0m\n\u001b[0m\u001b[0;32m      4\u001b[0m \u001b[1;33m\u001b[0m\u001b[0m\n\u001b[0;32m      5\u001b[0m \u001b[0mcity_list\u001b[0m \u001b[1;33m=\u001b[0m \u001b[0mauto_data_df\u001b[0m\u001b[1;33m.\u001b[0m\u001b[0mCity\u001b[0m\u001b[1;33m.\u001b[0m\u001b[0mtolist\u001b[0m\u001b[1;33m(\u001b[0m\u001b[1;33m)\u001b[0m\u001b[1;33m\u001b[0m\u001b[1;33m\u001b[0m\u001b[0m\n",
      "\u001b[1;32mC:\\ProgramData\\Anaconda3\\lib\\site-packages\\pandas\\core\\generic.py\u001b[0m in \u001b[0;36m__getattr__\u001b[1;34m(self, name)\u001b[0m\n\u001b[0;32m   5177\u001b[0m             \u001b[1;32mif\u001b[0m \u001b[0mself\u001b[0m\u001b[1;33m.\u001b[0m\u001b[0m_info_axis\u001b[0m\u001b[1;33m.\u001b[0m\u001b[0m_can_hold_identifiers_and_holds_name\u001b[0m\u001b[1;33m(\u001b[0m\u001b[0mname\u001b[0m\u001b[1;33m)\u001b[0m\u001b[1;33m:\u001b[0m\u001b[1;33m\u001b[0m\u001b[1;33m\u001b[0m\u001b[0m\n\u001b[0;32m   5178\u001b[0m                 \u001b[1;32mreturn\u001b[0m \u001b[0mself\u001b[0m\u001b[1;33m[\u001b[0m\u001b[0mname\u001b[0m\u001b[1;33m]\u001b[0m\u001b[1;33m\u001b[0m\u001b[1;33m\u001b[0m\u001b[0m\n\u001b[1;32m-> 5179\u001b[1;33m             \u001b[1;32mreturn\u001b[0m \u001b[0mobject\u001b[0m\u001b[1;33m.\u001b[0m\u001b[0m__getattribute__\u001b[0m\u001b[1;33m(\u001b[0m\u001b[0mself\u001b[0m\u001b[1;33m,\u001b[0m \u001b[0mname\u001b[0m\u001b[1;33m)\u001b[0m\u001b[1;33m\u001b[0m\u001b[1;33m\u001b[0m\u001b[0m\n\u001b[0m\u001b[0;32m   5180\u001b[0m \u001b[1;33m\u001b[0m\u001b[0m\n\u001b[0;32m   5181\u001b[0m     \u001b[1;32mdef\u001b[0m \u001b[0m__setattr__\u001b[0m\u001b[1;33m(\u001b[0m\u001b[0mself\u001b[0m\u001b[1;33m,\u001b[0m \u001b[0mname\u001b[0m\u001b[1;33m,\u001b[0m \u001b[0mvalue\u001b[0m\u001b[1;33m)\u001b[0m\u001b[1;33m:\u001b[0m\u001b[1;33m\u001b[0m\u001b[1;33m\u001b[0m\u001b[0m\n",
      "\u001b[1;31mAttributeError\u001b[0m: 'DataFrame' object has no attribute 'Zip'"
     ]
    }
   ],
   "source": [
    "auto_data_list = auto_data_df.values.tolist()\n",
    "zip_list = auto_data_df.Zip_Code.tolist() \n",
    "city_list = auto_data_df.City.tolist()\n"
   ]
  },
  {
   "cell_type": "code",
   "execution_count": null,
   "metadata": {},
   "outputs": [],
   "source": []
  },
  {
   "cell_type": "code",
   "execution_count": null,
   "metadata": {},
   "outputs": [],
   "source": []
  },
  {
   "cell_type": "markdown",
   "metadata": {},
   "source": [
    "#### Save configuration and build query URL"
   ]
  },
  {
   "cell_type": "code",
   "execution_count": 30,
   "metadata": {},
   "outputs": [
    {
     "name": "stdout",
     "output_type": "stream",
     "text": [
      "http://api.openweathermap.org/data/2.5/weather?appid=7e98628ecd4395a6ca3f342c5abe7ccc&units=imperial&q=\n",
      "http://api.openweathermap.org/data/2.5/weather?&units=imperial&q=\n"
     ]
    }
   ],
   "source": [
    "# Save config information.\n",
    "url = \"http://api.openweathermap.org/data/2.5/weather?\"\n",
    "units = \"imperial\"\n",
    "\n",
    "# Build partial code query URL\n",
    "query_url = f\"{url}&units={units}&q=\"\n",
    "print(query_url)\n",
    "\n",
    "# https://api.openweathermap.org/data/2.5/onecall?zip={zip code},{country code}&exclude=hourly,daily&appid={api_key}\n",
    "# query_url = f\"{url}\n",
    "# api.openweathermap.org/data/2.5/weather?zip={zip code},{country code}&appid={API key}\n",
    "# pro.openweathermap.org/data/2.5/forecast/hourly?zip={zip code},{country code}&appid={API key}\n",
    "# https://api.openweathermap.org/data/2.5/onecall?exclude={part}&appid={API key},zip={zip code},{country code}"
   ]
  },
  {
   "cell_type": "markdown",
   "metadata": {},
   "source": [
    "#### Loop through list of cities to request information for each"
   ]
  },
  {
   "cell_type": "code",
   "execution_count": 63,
   "metadata": {},
   "outputs": [
    {
     "data": {
      "text/plain": [
       "[(29.71, -95.6), (29.63, -95.73), (29.79, -95.82)]"
      ]
     },
     "execution_count": 63,
     "metadata": {},
     "output_type": "execute_result"
    }
   ],
   "source": [
    "# Loop with a list of zipcodes\n",
    "zip_test = [\"77077\", \"77407\", \"77494\"]\n",
    "\n",
    "# set up lists to hold reponse info\n",
    "lat_list = []\n",
    "lon_list = []\n",
    "hum_list = []\n",
    "temp_list = []\n",
    "maxTemp_list = []\n",
    "minTemp_list = []\n",
    "cloud_list = []\n",
    "wind_list = []\n",
    "city_list = []\n",
    "# Loop through the list of cities and perform a request for data on each\n",
    "for zips in zip_test:\n",
    "    weather_url = f\"{query_url}{zips},US&appid={api_key}\"\n",
    "#     print(weather_url)\n",
    "    response = requests.get(weather_url).json()\n",
    "#     pprint(response)\n",
    "    lat_list.append(response['coord']['lat'])\n",
    "    lon_list.append(response['coord']['lon'])\n",
    "    temp_list.append(response['main']['temp'])\n",
    "    maxTemp_list.append(response['main']['temp_max'])\n",
    "    minTemp_list.append(response['main']['temp_min'])\n",
    "    hum_list.append(response['main']['humidity'])\n",
    "    cloud_list.append(response['clouds']['all'])\n",
    "    wind_list.append(response['wind']['speed'])\n",
    "    city_list.append(response['name'])\n",
    "\n",
    "# Create llat lon pairs\n",
    "latlongList = list(zip(lat_list,lon_list))\n",
    "latlongList"
   ]
  },
  {
   "cell_type": "markdown",
   "metadata": {},
   "source": [
    "#### Create a DataFrame from cities, lat, and temp"
   ]
  },
  {
   "cell_type": "code",
   "execution_count": 48,
   "metadata": {},
   "outputs": [
    {
     "data": {
      "text/html": [
       "<div>\n",
       "<style scoped>\n",
       "    .dataframe tbody tr th:only-of-type {\n",
       "        vertical-align: middle;\n",
       "    }\n",
       "\n",
       "    .dataframe tbody tr th {\n",
       "        vertical-align: top;\n",
       "    }\n",
       "\n",
       "    .dataframe thead th {\n",
       "        text-align: right;\n",
       "    }\n",
       "</style>\n",
       "<table border=\"1\" class=\"dataframe\">\n",
       "  <thead>\n",
       "    <tr style=\"text-align: right;\">\n",
       "      <th></th>\n",
       "      <th>Zip_code</th>\n",
       "      <th>City</th>\n",
       "      <th>Max Temperature</th>\n",
       "      <th>Min Temperature</th>\n",
       "      <th>Humidity</th>\n",
       "      <th>Wind speed</th>\n",
       "      <th>Cloudiness</th>\n",
       "    </tr>\n",
       "  </thead>\n",
       "  <tbody>\n",
       "    <tr>\n",
       "      <td>0</td>\n",
       "      <td>77077</td>\n",
       "      <td>Houston</td>\n",
       "      <td>64</td>\n",
       "      <td>60.80</td>\n",
       "      <td>67</td>\n",
       "      <td>11.41</td>\n",
       "      <td>90</td>\n",
       "    </tr>\n",
       "    <tr>\n",
       "      <td>1</td>\n",
       "      <td>77407</td>\n",
       "      <td>Houston</td>\n",
       "      <td>64</td>\n",
       "      <td>61.00</td>\n",
       "      <td>67</td>\n",
       "      <td>11.41</td>\n",
       "      <td>90</td>\n",
       "    </tr>\n",
       "    <tr>\n",
       "      <td>2</td>\n",
       "      <td>77494</td>\n",
       "      <td>Houston</td>\n",
       "      <td>64</td>\n",
       "      <td>60.01</td>\n",
       "      <td>67</td>\n",
       "      <td>9.17</td>\n",
       "      <td>90</td>\n",
       "    </tr>\n",
       "  </tbody>\n",
       "</table>\n",
       "</div>"
      ],
      "text/plain": [
       "  Zip_code     City  Max Temperature  Min Temperature  Humidity  Wind speed  \\\n",
       "0    77077  Houston               64            60.80        67       11.41   \n",
       "1    77407  Houston               64            61.00        67       11.41   \n",
       "2    77494  Houston               64            60.01        67        9.17   \n",
       "\n",
       "   Cloudiness  \n",
       "0          90  \n",
       "1          90  \n",
       "2          90  "
      ]
     },
     "execution_count": 48,
     "metadata": {},
     "output_type": "execute_result"
    }
   ],
   "source": [
    "weather_dict = {\"Zip_code\": zip_test, \"City\": city_list, \"Max Temperature\": maxTemp_list, \"Min Temperature\": minTemp_list, \"Humidity\": hum_list, \"Wind speed\": wind_list, \"Cloudiness\": cloud_list}\n",
    "weather_df = pd.DataFrame(weather_dict)\n",
    "weather_df"
   ]
  },
  {
   "cell_type": "markdown",
   "metadata": {},
   "source": [
    "#### Build a 7 day forecast table"
   ]
  },
  {
   "cell_type": "code",
   "execution_count": 65,
   "metadata": {},
   "outputs": [
    {
     "name": "stdout",
     "output_type": "stream",
     "text": [
      "lat = 29.71\n",
      "lon = -95.6\n",
      "lat = 29.63\n",
      "lon = -95.73\n",
      "lat = 29.79\n",
      "lon = -95.82\n"
     ]
    }
   ],
   "source": [
    "for latlons in latlongList:\n",
    "    print(f\"lat = {latlons[0]}\")\n",
    "    print(f\"lon = {latlons[1]}\")"
   ]
  },
  {
   "cell_type": "code",
   "execution_count": 67,
   "metadata": {},
   "outputs": [
    {
     "name": "stdout",
     "output_type": "stream",
     "text": [
      "https://api.openweathermap.org/data/2.5/onecall?&units=imperial&exclude=hourly,minutely\n"
     ]
    }
   ],
   "source": [
    "# Build 7 day URL\n",
    "# Save config information.\n",
    "url = \"https://api.openweathermap.org/data/2.5/onecall?\"\n",
    "units = \"imperial\"\n",
    "exclude = \"hourly,minutely\"\n",
    "\n",
    "# Build partial code query URL\n",
    "sevenday_query_url = f\"{url}&units={units}&exclude={exclude}\"\n",
    "print(sevenday_query_url)"
   ]
  },
  {
   "cell_type": "code",
   "execution_count": 91,
   "metadata": {},
   "outputs": [
    {
     "name": "stdout",
     "output_type": "stream",
     "text": [
      "Oops, looks like I didn't find some values on day 0. On to the next one\n",
      "Oops, looks like I didn't find some values on day 1. On to the next one\n",
      "Oops, looks like I didn't find some values on day 0. On to the next one\n",
      "Oops, looks like I didn't find some values on day 1. On to the next one\n",
      "Oops, looks like I didn't find some values on day 0. On to the next one\n"
     ]
    }
   ],
   "source": [
    "# # Loop with a list of zipcodes\n",
    "# zip_test = [\"77077\", \"77407\", \"77494\"]\n",
    "\n",
    "# # set up lists to hold reponse info\n",
    "# latlong_list = []\n",
    "# lon_list = []\n",
    "\n",
    "# # Loop through the list of cities and perform a request for data on each\n",
    "# for zips in zip_test:\n",
    "#     weather_url = f\"{query_url}{zips},US&appid={api_key}\"\n",
    "#     response = requests.get(weather_url).json()\n",
    "#     lat_list.append(response['coord']['lat'])\n",
    "#     lon_list.append(response['coord']['lon'])\n",
    "\n",
    "# # Make Latlong tuples\n",
    "latlongList = list(zip(lat_list, lon_list))\n",
    "days = [0, 1, 2]\n",
    "current_temp_list = []\n",
    "current_humidity_list = []\n",
    "current_wind_list = []\n",
    "Forecast_List = []\n",
    "Description_List = []\n",
    "Max_Temp_List = []\n",
    "Humidity_List = []\n",
    "rain_List = []\n",
    "\n",
    "# Loop through the list of tupules and perform a request for data on each\n",
    "for latlon in latlongList:\n",
    "    for day in days:\n",
    "        weather_url = f\"{url}lat={latlon[0]}&lon={latlon[1]}&exclude={exclude}&units={units}&appid={api_key}\"\n",
    "        response = requests.get(weather_url).json()\n",
    "#         pprint(response)\n",
    "        try:\n",
    "            current_temp_list.append(response['current']['temp'])\n",
    "            current_humidity_list.append(response['current']['humidity'])\n",
    "            current_wind_list.append(response['current']['wind'])\n",
    "            Max_Temp_List.append(response['daily'][day]['temp']['max'])\n",
    "            Humidity_List.append(response['daily'][day]['humidity'])\n",
    "            Forecast_List.append(response['daily'][day]['weather'][0]['main'])\n",
    "            Description_List.append(response['daily'][day]['weather'][0]['description'])\n",
    "            rain_List.append(response['daily'][day]['rain'])\n",
    "        except:\n",
    "            print(f\"Oops, looks like I didn't find some values on day {day}. On to the next one\")"
   ]
  },
  {
   "cell_type": "code",
   "execution_count": 94,
   "metadata": {},
   "outputs": [
    {
     "name": "stdout",
     "output_type": "stream",
     "text": [
      "9\n",
      "['overcast clouds', 'broken clouds', 'light rain', 'few clouds', 'broken clouds', 'light rain', 'overcast clouds', 'light rain', 'light rain']\n"
     ]
    }
   ],
   "source": [
    "now_list = Description_List\n",
    "print(len(now_list))\n",
    "print(now_list)"
   ]
  },
  {
   "cell_type": "code",
   "execution_count": null,
   "metadata": {},
   "outputs": [],
   "source": [
    "Forcast_dict = {\"Zip_code\": zip_test, \"City\": city_list, \"Current Temperature\": current_temp_list, \"Current Humidity\": current_humidity_list, \"Current Wind speed\": current_wind_list, \"Day1 Forecast\": Forecast_List, \"Wind speed\": wind_list, \"Cloudiness\": cloud_list}\n",
    "Forcast_df = pd.DataFrame(Forcast_dict)\n",
    "Forcast_df"
   ]
  },
  {
   "cell_type": "code",
   "execution_count": 95,
   "metadata": {},
   "outputs": [
    {
     "name": "stdout",
     "output_type": "stream",
     "text": [
      "Oops, looks like this might be a problem on day 0. On to the next one\n",
      "Oops, looks like I didn't find some values for rain on day 0. On to the next one\n",
      "Oops, looks like this might be a problem on day 1. On to the next one\n",
      "Oops, looks like I didn't find some values for rain on day 1. On to the next one\n",
      "Oops, looks like this might be a problem on day 2. On to the next one\n",
      "Oops, looks like this might be a problem on day 0. On to the next one\n",
      "Oops, looks like I didn't find some values for rain on day 0. On to the next one\n",
      "Oops, looks like this might be a problem on day 1. On to the next one\n",
      "Oops, looks like I didn't find some values for rain on day 1. On to the next one\n",
      "Oops, looks like this might be a problem on day 2. On to the next one\n",
      "Oops, looks like this might be a problem on day 0. On to the next one\n",
      "Oops, looks like I didn't find some values for rain on day 0. On to the next one\n",
      "Oops, looks like this might be a problem on day 1. On to the next one\n",
      "Oops, looks like this might be a problem on day 2. On to the next one\n"
     ]
    }
   ],
   "source": [
    "current_temp_Dict = {}\n",
    "current_humidity_Dict = {}\n",
    "current_wind_Dict = {}\n",
    "Max_Temp_Dict_7day = {}\n",
    "Humidity_Dict_7day = {}\n",
    "Forecast_Dict_7day = {}\n",
    "Description_Dict_7day = {}\n",
    "Rain_Dict_7day = {}\n",
    "\n",
    "# Loop through the list of tupules and perform a request for data on each\n",
    "for latlon in latlongList:\n",
    "    for day in days:\n",
    "        weather_url = f\"{url}lat={latlon[0]}&lon={latlon[1]}&exclude={exclude}&units={units}&appid={api_key}\"\n",
    "        response = requests.get(weather_url).json()\n",
    "#         pprint(response)\n",
    "        try:\n",
    "            current_temp_Dict[latlon] = response['current']['temp']\n",
    "            current_humidity_Dict[latlon] = response['current']['humidity']\n",
    "            current_wind_Dict = response['current']['wind']\n",
    "            Max_Temp_Dict_7day = response['daily'][day]['temp']['max']\n",
    "            Humidity_Dict_7day = response['daily'][day]['humidity']\n",
    "            Forecast_Dict_7day = response['daily'][day]['weather'][0]['main']\n",
    "            Description_Dict_7day = response['daily'][day]['weather'][0]['description']\n",
    "        except:\n",
    "            print(f\"Oops, looks like this might be a problem on day {day}. On to the next one\")\n",
    "        try:\n",
    "            Rain_Dict_7day = response['daily'][day]['rain']\n",
    "        except:\n",
    "            print(f\"Oops, looks like I didn't find some values for rain on day {day}. On to the next one\")"
   ]
  },
  {
   "cell_type": "code",
   "execution_count": 96,
   "metadata": {},
   "outputs": [
    {
     "data": {
      "text/plain": [
       "{(29.71, -95.6): 67.15, (29.63, -95.73): 67.35, (29.79, -95.82): 67.57}"
      ]
     },
     "execution_count": 96,
     "metadata": {},
     "output_type": "execute_result"
    }
   ],
   "source": [
    "# now_list = Description_List\n",
    "# print(len(now_list))\n",
    "# print(now_list)\n",
    "current_temp_Dict"
   ]
  },
  {
   "cell_type": "code",
   "execution_count": null,
   "metadata": {},
   "outputs": [],
   "source": []
  }
 ],
 "metadata": {
  "kernelspec": {
   "display_name": "Python 3",
   "language": "python",
   "name": "python3"
  },
  "language_info": {
   "codemirror_mode": {
    "name": "ipython",
    "version": 3
   },
   "file_extension": ".py",
   "mimetype": "text/x-python",
   "name": "python",
   "nbconvert_exporter": "python",
   "pygments_lexer": "ipython3",
   "version": "3.7.4"
  },
  "varInspector": {
   "cols": {
    "lenName": 16,
    "lenType": 16,
    "lenVar": 40
   },
   "kernels_config": {
    "python": {
     "delete_cmd_postfix": "",
     "delete_cmd_prefix": "del ",
     "library": "var_list.py",
     "varRefreshCmd": "print(var_dic_list())"
    },
    "r": {
     "delete_cmd_postfix": ") ",
     "delete_cmd_prefix": "rm(",
     "library": "var_list.r",
     "varRefreshCmd": "cat(var_dic_list()) "
    }
   },
   "types_to_exclude": [
    "module",
    "function",
    "builtin_function_or_method",
    "instance",
    "_Feature"
   ],
   "window_display": false
  }
 },
 "nbformat": 4,
 "nbformat_minor": 4
}
