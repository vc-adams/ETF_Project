{
 "cells": [
  {
   "cell_type": "code",
   "execution_count": 41,
   "metadata": {},
   "outputs": [],
   "source": [
    "import os\n",
    "import json\n",
    "import requests\n",
    "import pandas as pd\n",
    "\n",
    "\n",
    "CarInsurance_df = pd.read_html(\"https://www.carinsurance.com/calculators/average-car-insurance-rates.aspx\")\n",
    "\n",
    "AutoInsurance_df = pd.read_html(\"https://www.autoinsurance.org/quoting-auto-insurance-rates-by-zip-code/\")"
   ]
  },
  {
   "cell_type": "code",
   "execution_count": 2,
   "metadata": {},
   "outputs": [
    {
     "name": "stdout",
     "output_type": "stream",
     "text": [
      "7\n",
      "10\n"
     ]
    }
   ],
   "source": [
    "print(len(CarInsurance_df))\n",
    "print(len(AutoInsurance_df))"
   ]
  },
  {
   "cell_type": "code",
   "execution_count": 3,
   "metadata": {},
   "outputs": [
    {
     "data": {
      "text/html": [
       "<div>\n",
       "<style scoped>\n",
       "    .dataframe tbody tr th:only-of-type {\n",
       "        vertical-align: middle;\n",
       "    }\n",
       "\n",
       "    .dataframe tbody tr th {\n",
       "        vertical-align: top;\n",
       "    }\n",
       "\n",
       "    .dataframe thead th {\n",
       "        text-align: right;\n",
       "    }\n",
       "</style>\n",
       "<table border=\"1\" class=\"dataframe\">\n",
       "  <thead>\n",
       "    <tr style=\"text-align: right;\">\n",
       "      <th></th>\n",
       "      <th>State</th>\n",
       "      <th>Zip Code</th>\n",
       "      <th>City</th>\n",
       "      <th>Average Auto Insurance Rate</th>\n",
       "    </tr>\n",
       "  </thead>\n",
       "  <tbody>\n",
       "    <tr>\n",
       "      <th>0</th>\n",
       "      <td>Maine</td>\n",
       "      <td>4735</td>\n",
       "      <td>Bridgewater</td>\n",
       "      <td>$993</td>\n",
       "    </tr>\n",
       "    <tr>\n",
       "      <th>1</th>\n",
       "      <td>New Hampshire</td>\n",
       "      <td>3766</td>\n",
       "      <td>Lebanon</td>\n",
       "      <td>$995</td>\n",
       "    </tr>\n",
       "    <tr>\n",
       "      <th>2</th>\n",
       "      <td>Ohio</td>\n",
       "      <td>45885</td>\n",
       "      <td>St. Marys</td>\n",
       "      <td>$995</td>\n",
       "    </tr>\n",
       "    <tr>\n",
       "      <th>3</th>\n",
       "      <td>Virginia</td>\n",
       "      <td>24060</td>\n",
       "      <td>Blacksburg</td>\n",
       "      <td>$1,005</td>\n",
       "    </tr>\n",
       "    <tr>\n",
       "      <th>4</th>\n",
       "      <td>Wisconsin</td>\n",
       "      <td>54952</td>\n",
       "      <td>Menasha</td>\n",
       "      <td>$1,080</td>\n",
       "    </tr>\n",
       "  </tbody>\n",
       "</table>\n",
       "</div>"
      ],
      "text/plain": [
       "           State  Zip Code         City Average Auto Insurance Rate\n",
       "0          Maine      4735  Bridgewater                        $993\n",
       "1  New Hampshire      3766      Lebanon                        $995\n",
       "2           Ohio     45885    St. Marys                        $995\n",
       "3       Virginia     24060   Blacksburg                      $1,005\n",
       "4      Wisconsin     54952      Menasha                      $1,080"
      ]
     },
     "execution_count": 3,
     "metadata": {},
     "output_type": "execute_result"
    }
   ],
   "source": [
    "mst_and_lst_expnsv_by_state_CarInsurance_df = CarInsurance_df[5]\n",
    "mst_and_lst_expnsv_by_state_CarInsurance_df.head()\n",
    "\n",
    "mst_and_lst_expnsv_by_state_CarInsurance_df = mst_and_lst_expnsv_by_state_CarInsurance_df[[\"State\", \"ZIP Code\", \"City\", \"Average Annual Rate\"]]\n",
    "mst_and_lst_expnsv_by_state_CarInsurance_df.head()\n",
    "\n",
    "mst_and_lst_expnsv_by_state_CarInsurance_df = mst_and_lst_expnsv_by_state_CarInsurance_df.rename ({\"ZIP Code\" : \"Zip Code\", \"Average Annual Rate\" : \"Average Auto Insurance Rate\"}, axis = 1)\n",
    "mst_and_lst_expnsv_by_state_CarInsurance_df.head()"
   ]
  },
  {
   "cell_type": "code",
   "execution_count": 4,
   "metadata": {},
   "outputs": [
    {
     "data": {
      "text/html": [
       "<div>\n",
       "<style scoped>\n",
       "    .dataframe tbody tr th:only-of-type {\n",
       "        vertical-align: middle;\n",
       "    }\n",
       "\n",
       "    .dataframe tbody tr th {\n",
       "        vertical-align: top;\n",
       "    }\n",
       "\n",
       "    .dataframe thead th {\n",
       "        text-align: right;\n",
       "    }\n",
       "</style>\n",
       "<table border=\"1\" class=\"dataframe\">\n",
       "  <thead>\n",
       "    <tr style=\"text-align: right;\">\n",
       "      <th></th>\n",
       "      <th>State</th>\n",
       "      <th>Zip Code</th>\n",
       "      <th>City</th>\n",
       "      <th>Average Auto Insurance Rate</th>\n",
       "    </tr>\n",
       "  </thead>\n",
       "  <tbody>\n",
       "    <tr>\n",
       "      <th>0</th>\n",
       "      <td>Michigan</td>\n",
       "      <td>48226</td>\n",
       "      <td>Detroit</td>\n",
       "      <td>$6,329</td>\n",
       "    </tr>\n",
       "    <tr>\n",
       "      <th>1</th>\n",
       "      <td>New York</td>\n",
       "      <td>11212</td>\n",
       "      <td>New York</td>\n",
       "      <td>$5,703</td>\n",
       "    </tr>\n",
       "    <tr>\n",
       "      <th>2</th>\n",
       "      <td>Louisiana</td>\n",
       "      <td>70117</td>\n",
       "      <td>New Orleans</td>\n",
       "      <td>$4,601</td>\n",
       "    </tr>\n",
       "    <tr>\n",
       "      <th>3</th>\n",
       "      <td>Nevada</td>\n",
       "      <td>89101</td>\n",
       "      <td>Las Vegas</td>\n",
       "      <td>$3,768</td>\n",
       "    </tr>\n",
       "    <tr>\n",
       "      <th>4</th>\n",
       "      <td>California</td>\n",
       "      <td>91605</td>\n",
       "      <td>North Hollywood</td>\n",
       "      <td>$3,767</td>\n",
       "    </tr>\n",
       "  </tbody>\n",
       "</table>\n",
       "</div>"
      ],
      "text/plain": [
       "        State  Zip Code             City Average Auto Insurance Rate\n",
       "0    Michigan     48226          Detroit                      $6,329\n",
       "1    New York     11212         New York                      $5,703\n",
       "2   Louisiana     70117      New Orleans                      $4,601\n",
       "3      Nevada     89101        Las Vegas                      $3,768\n",
       "4  California     91605  North Hollywood                      $3,767"
      ]
     },
     "execution_count": 4,
     "metadata": {},
     "output_type": "execute_result"
    }
   ],
   "source": [
    "mst_expnsv_by_state_CarInsurance_df = CarInsurance_df[6]\n",
    "mst_expnsv_by_state_CarInsurance_df.head()\n",
    "\n",
    "mst_expnsv_by_state_CarInsurance_df = mst_expnsv_by_state_CarInsurance_df[[\"State\", \"ZIP Code\", \"City\", \"Average Annual Rate\"]]\n",
    "mst_expnsv_by_state_CarInsurance_df.head()\n",
    "\n",
    "mst_expnsv_by_state_CarInsurance_df = mst_expnsv_by_state_CarInsurance_df.rename ({\"ZIP Code\" : \"Zip Code\", \"Average Annual Rate\" : \"Average Auto Insurance Rate\"}, axis = 1)\n",
    "mst_expnsv_by_state_CarInsurance_df.head()"
   ]
  },
  {
   "cell_type": "code",
   "execution_count": 8,
   "metadata": {},
   "outputs": [
    {
     "data": {
      "text/html": [
       "<div>\n",
       "<style scoped>\n",
       "    .dataframe tbody tr th:only-of-type {\n",
       "        vertical-align: middle;\n",
       "    }\n",
       "\n",
       "    .dataframe tbody tr th {\n",
       "        vertical-align: top;\n",
       "    }\n",
       "\n",
       "    .dataframe thead th {\n",
       "        text-align: right;\n",
       "    }\n",
       "</style>\n",
       "<table border=\"1\" class=\"dataframe\">\n",
       "  <thead>\n",
       "    <tr style=\"text-align: right;\">\n",
       "      <th></th>\n",
       "      <th>State</th>\n",
       "      <th>Zip Code</th>\n",
       "      <th>City</th>\n",
       "      <th>Average Auto Insurance Rate</th>\n",
       "    </tr>\n",
       "  </thead>\n",
       "  <tbody>\n",
       "    <tr>\n",
       "      <th>0</th>\n",
       "      <td></td>\n",
       "      <td>48201</td>\n",
       "      <td>Detroit</td>\n",
       "      <td>$30,350.09</td>\n",
       "    </tr>\n",
       "    <tr>\n",
       "      <th>1</th>\n",
       "      <td></td>\n",
       "      <td>48206</td>\n",
       "      <td>Detroit</td>\n",
       "      <td>$29,791.56</td>\n",
       "    </tr>\n",
       "    <tr>\n",
       "      <th>2</th>\n",
       "      <td></td>\n",
       "      <td>48227</td>\n",
       "      <td>Detroit</td>\n",
       "      <td>$29,374.46</td>\n",
       "    </tr>\n",
       "    <tr>\n",
       "      <th>3</th>\n",
       "      <td></td>\n",
       "      <td>48204</td>\n",
       "      <td>Detroit</td>\n",
       "      <td>$29,281.79</td>\n",
       "    </tr>\n",
       "    <tr>\n",
       "      <th>4</th>\n",
       "      <td></td>\n",
       "      <td>48202</td>\n",
       "      <td>Detroit</td>\n",
       "      <td>$28,946.15</td>\n",
       "    </tr>\n",
       "  </tbody>\n",
       "</table>\n",
       "</div>"
      ],
      "text/plain": [
       "  State Zip Code     City Average Auto Insurance Rate\n",
       "0          48201  Detroit                  $30,350.09\n",
       "1          48206  Detroit                  $29,791.56\n",
       "2          48227  Detroit                  $29,374.46\n",
       "3          48204  Detroit                  $29,281.79\n",
       "4          48202  Detroit                  $28,946.15"
      ]
     },
     "execution_count": 8,
     "metadata": {},
     "output_type": "execute_result"
    }
   ],
   "source": [
    "_25_mst_expnsv_auto_insrnc_rts_by_zip_cde_df = AutoInsurance_df[3]\n",
    "_25_mst_expnsv_auto_insrnc_rts_by_zip_cde_df.head()\n",
    "\n",
    "_25_mst_expnsv_auto_insrnc_rts_by_zip_cde_df = _25_mst_expnsv_auto_insrnc_rts_by_zip_cde_df.rename ({\"ZIP Code\" : \"Zip Code\", \"Average Annual Auto Insurance Rates\" : \"Average Auto Insurance Rate\"}, axis = 1)\n",
    "_25_mst_expnsv_auto_insrnc_rts_by_zip_cde_df.head()\n",
    "\n",
    "_25_mst_expnsv_auto_insrnc_rts_by_zip_cde_df[\"State\"] = \"\"\n",
    "_25_mst_expnsv_auto_insrnc_rts_by_zip_cde_df.head()\n",
    "\n",
    "_25_mst_expnsv_auto_insrnc_rts_by_zip_cde_df = _25_mst_expnsv_auto_insrnc_rts_by_zip_cde_df[[\"State\", \"Zip Code\", \"City\", \"Average Auto Insurance Rate\"]]\n",
    "_25_mst_expnsv_auto_insrnc_rts_by_zip_cde_df.head()"
   ]
  },
  {
   "cell_type": "code",
   "execution_count": 40,
   "metadata": {},
   "outputs": [
    {
     "name": "stdout",
     "output_type": "stream",
     "text": [
      "The state is: Michigan and city: Detroit\n",
      "The state is: Michigan and city: Detroit\n",
      "The state is: Michigan and city: Detroit\n",
      "The state is: Michigan and city: Detroit\n",
      "The state is: Michigan and city: Detroit\n",
      "The state is: Michigan and city: Detroit\n",
      "The state is: Michigan and city: Detroit\n",
      "The state is: Michigan and city: Detroit\n",
      "The state is: Michigan and city: Detroit\n",
      "The state is: Michigan and city: Detroit\n",
      "The state is: Michigan and city: Detroit\n",
      "The state is: Michigan and city: Detroit\n",
      "The state is: Michigan and city: Detroit\n",
      "The state is: Michigan and city: Detroit\n",
      "The state is: Michigan and city: Detroit\n",
      "The state is: Michigan and city: Detroit\n",
      "The state is: Michigan and city: Detroit\n",
      "The state is: Michigan and city: Detroit\n",
      "The state is: Michigan and city: Detroit\n",
      "The state is: Michigan and city: Detroit\n",
      "The state is: Michigan and city: Detroit\n",
      "The state is: Michigan and city: Detroit\n"
     ]
    }
   ],
   "source": [
    "_25_mst_expnsv_auto_insrnc_rts_by_zip_cde_len = len(_25_mst_expnsv_auto_insrnc_rts_by_zip_cde_df)\n",
    "\n",
    "for x in range(len(_25_mst_expnsv_auto_insrnc_rts_by_zip_cde_df)):\n",
    "#     print({_25_mst_expnsv_auto_insrnc_rts_by_zip_cde_df['City']})\n",
    "#     print(\"test\")\n",
    "    \n",
    "    if _25_mst_expnsv_auto_insrnc_rts_by_zip_cde_df[\"City\"][x] == \"Detroit\":\n",
    "#         print(_25_mst_expnsv_auto_insrnc_rts_by_zip_cde_df[\"City\"][x])\n",
    "#         print(_25_mst_expnsv_auto_insrnc_rts_by_zip_cde_df[\"State\"][x])\n",
    "\n",
    "        _25_mst_expnsv_auto_insrnc_rts_by_zip_cde_df['State'][x] = \"Michigan\"\n",
    "        print(f\"The state is: {_25_mst_expnsv_auto_insrnc_rts_by_zip_cde_df['State'][x]} and city: {_25_mst_expnsv_auto_insrnc_rts_by_zip_cde_df['City'][x]}\")"
   ]
  },
  {
   "cell_type": "code",
   "execution_count": null,
   "metadata": {},
   "outputs": [],
   "source": [
    "user_API_key = \"\"\n",
    "url = \"https://api.zip-codes.com/ZipCodesAPI.svc/1.0/QuickGetZipCodeDetails/\"\n",
    "\n",
    "print(url)"
   ]
  },
  {
   "cell_type": "code",
   "execution_count": null,
   "metadata": {},
   "outputs": [],
   "source": [
    "zip_code = 77042\n",
    "\n",
    "zip_code_request = requests.get(url + zip_code + \"?key=\" + user_API_key)\n",
    "zip_code_request.url"
   ]
  },
  {
   "cell_type": "code",
   "execution_count": null,
   "metadata": {},
   "outputs": [],
   "source": [
    "for x in range(len(_25_mst_expnsv_auto_insrnc_rts_by_zip_cde_df)):\n",
    "#     print({_25_mst_expnsv_auto_insrnc_rts_by_zip_cde_df['City']})\n",
    "#     print(\"test\")\n",
    "    \n",
    "    if _25_mst_expnsv_auto_insrnc_rts_by_zip_cde_df[\"State\"][x] == \"\":\n",
    "#         print(_25_mst_expnsv_auto_insrnc_rts_by_zip_cde_df[\"City\"][x])\n",
    "#         print(_25_mst_expnsv_auto_insrnc_rts_by_zip_cde_df[\"State\"][x])\n",
    "        zip_code = _25_mst_expnsv_auto_insrnc_rts_by_zip_cde_df['Zip Code'][x]\n",
    "        print(f\"{url}{zip_code}?key={user_API_key}\")\n",
    "#         _25_mst_expnsv_auto_insrnc_rts_by_zip_cde_df['State'][x] = \"Michigan\"\n",
    "#         print(f\"The state is: {_25_mst_expnsv_auto_insrnc_rts_by_zip_cde_df['State'][x]} and city: {_25_mst_expnsv_auto_insrnc_rts_by_zip_cde_df['City'][x]}\")"
   ]
  },
  {
   "cell_type": "raw",
   "metadata": {},
   "source": [
    "request.get(url)"
   ]
  },
  {
   "cell_type": "code",
   "execution_count": null,
   "metadata": {},
   "outputs": [],
   "source": [
    "request.get(url)"
   ]
  },
  {
   "cell_type": "code",
   "execution_count": 43,
   "metadata": {},
   "outputs": [
    {
     "ename": "NameError",
     "evalue": "name 'request' is not defined",
     "output_type": "error",
     "traceback": [
      "\u001b[0;31m---------------------------------------------------------------------------\u001b[0m",
      "\u001b[0;31mNameError\u001b[0m                                 Traceback (most recent call last)",
      "\u001b[0;32m<ipython-input-43-1f0ced9ef8f8>\u001b[0m in \u001b[0;36m<module>\u001b[0;34m\u001b[0m\n\u001b[0;32m----> 1\u001b[0;31m \u001b[0mrequest\u001b[0m\u001b[0;34m.\u001b[0m\u001b[0mget\u001b[0m\u001b[0;34m(\u001b[0m\u001b[0murl\u001b[0m\u001b[0;34m)\u001b[0m\u001b[0;34m.\u001b[0m\u001b[0mjson\u001b[0m\u001b[0;34m(\u001b[0m\u001b[0;34m)\u001b[0m\u001b[0;34m\u001b[0m\u001b[0;34m\u001b[0m\u001b[0m\n\u001b[0m",
      "\u001b[0;31mNameError\u001b[0m: name 'request' is not defined"
     ]
    }
   ],
   "source": [
    "request.get(url).json()"
   ]
  },
  {
   "cell_type": "code",
   "execution_count": null,
   "metadata": {},
   "outputs": [],
   "source": [
    "_25_lst_expnsv_auto_insrnc_rts_by_zip_cde_df = AutoInsurance_df[4]\n",
    "_25_lst_expnsv_auto_insrnc_rts_by_zip_cde_df.head()\n",
    "\n",
    "_25_lst_expnsv_auto_insrnc_rts_by_zip_cde_df = _25_lst_expnsv_auto_insrnc_rts_by_zip_cde_df.rename ({\"ZIP Code\" : \"Zip Code\", \"Average Annual Auto Insurance Rates\" : \"Average Auto Insurance Rate\"}, axis = 1)\n",
    "_25_lst_expnsv_auto_insrnc_rts_by_zip_cde_df.head()\n",
    "\n",
    "_25_lst_expnsv_auto_insrnc_rts_by_zip_cde_df[\"State\"] = \"\"\n",
    "_25_lst_expnsv_auto_insrnc_rts_by_zip_cde_df.head()\n",
    "\n",
    "_25_lst_expnsv_auto_insrnc_rts_by_zip_cde_df = _25_lst_expnsv_auto_insrnc_rts_by_zip_cde_df[[\"State\", \"Zip Code\", \"City\", \"Average Auto Insurance Rate\"]]\n",
    "_25_lst_expnsv_auto_insrnc_rts_by_zip_cde_df.head()"
   ]
  },
  {
   "cell_type": "code",
   "execution_count": null,
   "metadata": {},
   "outputs": [],
   "source": [
    "len(_25_lst_expnsv_auto_insrnc_rts_by_zip_cde_df)"
   ]
  },
  {
   "cell_type": "code",
   "execution_count": null,
   "metadata": {},
   "outputs": [],
   "source": [
    "hghst_and_lwst_avg_annl_auto_insrnc_rates_per_state_df = auto_insurance_df[5]\n",
    "hghst_and_lwst_avg_annl_auto_insrnc_rates_per_state_df.head()"
   ]
  },
  {
   "cell_type": "code",
   "execution_count": null,
   "metadata": {},
   "outputs": [],
   "source": [
    "hghst_and_lwst_avg_annl_auto_insrnc_rates_per_state_1_df = hghst_and_lwst_avg_annl_auto_insrnc_rates_per_state_df[[\"State\", \"Least Expensive Zip Code\", \"City\", \"Lowest Average Annual Auto Insurance Rates\"]]\n",
    "hghst_and_lwst_avg_annl_auto_insrnc_rates_per_state.head()\n",
    "\n",
    "hghst_and_lwst_avg_annl_auto_insrnc_rates_per_state_1_df = hghst_and_lwst_avg_annl_auto_insrnc_rates_per_state_1_df.rename ({\"Least Expensive Zip Code\" : \"Zip Code\", \"Lowest Average Annual Auto Insurance Rates\" : \"Average Auto Insurance Rate\"}, axis = 1)\n",
    "hghst_and_lwst_avg_annl_auto_insrnc_rates_per_state_1_df.head()"
   ]
  },
  {
   "cell_type": "code",
   "execution_count": null,
   "metadata": {},
   "outputs": [],
   "source": [
    "hghst_and_lwst_avg_annl_auto_insrnc_rates_per_state_2_df = hghst_and_lwst_avg_annl_auto_insrnc_rates_per_state_df[[\"State\", \"Most Expensive Zip Code\", \"City.1\", \"Highest Average Annual Auto Insurance Rates\"]]\n",
    "hghst_and_lwst_avg_annl_auto_insrnc_rates_per_state_2_df.head()\n",
    "\n",
    "hghst_and_lwst_avg_annl_auto_insrnc_rates_per_state_2_df = hghst_and_lwst_avg_annl_auto_insrnc_rates_per_state_2_df.rename ({\"Most Expensive Zip Code\" : \"Zip Code\", \"City.1\" : \"City\", \"Highest Average Annual Auto Insurance Rates\" : \"Average Auto Insurance Rate\"}, axis = 1)\n",
    "hghst_and_lwst_avg_annl_auto_insrnc_rates_per_state_2_df.head()"
   ]
  },
  {
   "cell_type": "code",
   "execution_count": null,
   "metadata": {},
   "outputs": [],
   "source": [
    "# merged_test = pd.merge(test_1, test_2, on = \"Zip Code\", how = \"outer\")\n",
    "# merged_test"
   ]
  },
  {
   "cell_type": "code",
   "execution_count": null,
   "metadata": {},
   "outputs": [],
   "source": [
    "frames = [mst_expnsv_by_state_CarInsurance_df, _25_mst_expnsv_auto_insrnc_rts_by_zip_cde_df, _25_lst_expnsv_auto_insrnc_rts_by_zip_cde_df, _25_lst_expnsv_auto_insrnc_rts_by_zip_cde_df, hghst_and_lwst_avg_annl_auto_insrnc_rates_per_state_1_df, hghst_and_lwst_avg_annl_auto_insrnc_rates_per_state_2_df]\n",
    "\n",
    "avg_auto_insnc_concat_df = pd.concat(frames)\n",
    "avg_auto_insnc_concat_df"
   ]
  },
  {
   "cell_type": "code",
   "execution_count": null,
   "metadata": {},
   "outputs": [],
   "source": [
    "avg_auto_insnc_concat_df.shape"
   ]
  },
  {
   "cell_type": "code",
   "execution_count": null,
   "metadata": {},
   "outputs": [],
   "source": [
    "avg_auto_insnc_concat_df.count()"
   ]
  },
  {
   "cell_type": "code",
   "execution_count": null,
   "metadata": {},
   "outputs": [],
   "source": [
    "avg_auto_insnc_concat_df[\"Zip Code\"].value_counts()"
   ]
  },
  {
   "cell_type": "code",
   "execution_count": null,
   "metadata": {},
   "outputs": [],
   "source": [
    "# test = avg_auto_insnc_concat_df.loc[avg_auto_insnc_concat_df[\"City\"] == \"Get Your Rates Quote Now\"].index\n",
    "# test"
   ]
  },
  {
   "cell_type": "code",
   "execution_count": null,
   "metadata": {},
   "outputs": [],
   "source": [
    "# drp_gt_your_rts_qute_nw = avg_auto_insnc_concat_df[(avg_auto_insnc_concat_df[\"State\"] == \"Get Your Rates Quote Now\")].index\n",
    "# drp_gt_your_rts_qute_nw"
   ]
  },
  {
   "cell_type": "code",
   "execution_count": null,
   "metadata": {},
   "outputs": [],
   "source": [
    "drp_gt_your_rts_qute_nw_index = avg_auto_insnc_concat_df[(avg_auto_insnc_concat_df[\"City\"] == \"Get Your Rates Quote Now\")].index\n",
    "drp_gt_your_rts_qute_nw_index"
   ]
  },
  {
   "cell_type": "code",
   "execution_count": null,
   "metadata": {},
   "outputs": [],
   "source": [
    "avg_auto_insnc_concat_df = avg_auto_insnc_concat_df.drop(drp_gt_your_rts_qute_nw_index)\n",
    "avg_auto_insnc_concat_df"
   ]
  },
  {
   "cell_type": "code",
   "execution_count": null,
   "metadata": {},
   "outputs": [],
   "source": [
    "avg_auto_insnc_concat_df[\"Zip Code\"].value_counts()"
   ]
  },
  {
   "cell_type": "code",
   "execution_count": null,
   "metadata": {},
   "outputs": [],
   "source": [
    "drp_gt_your_rts_qute_nw = avg_auto_insnc_concat_df[(avg_auto_insnc_concat_df[\"Zip Code\"] == \"24450\")]\n",
    "drp_gt_your_rts_qute_nw"
   ]
  },
  {
   "cell_type": "code",
   "execution_count": null,
   "metadata": {},
   "outputs": [],
   "source": [
    "exprt_pth = os.path.join(\"Resources\", \"Average_Auto_Insurance_Data.csv\")\n",
    "\n",
    "avg_auto_insnc_concat_df.to_csv(exprt_pth, index=False, header=True)"
   ]
  },
  {
   "cell_type": "code",
   "execution_count": null,
   "metadata": {},
   "outputs": [],
   "source": []
  }
 ],
 "metadata": {
  "kernelspec": {
   "display_name": "Python 3",
   "language": "python",
   "name": "python3"
  },
  "language_info": {
   "codemirror_mode": {
    "name": "ipython",
    "version": 3
   },
   "file_extension": ".py",
   "mimetype": "text/x-python",
   "name": "python",
   "nbconvert_exporter": "python",
   "pygments_lexer": "ipython3",
   "version": "3.7.6"
  }
 },
 "nbformat": 4,
 "nbformat_minor": 4
}
